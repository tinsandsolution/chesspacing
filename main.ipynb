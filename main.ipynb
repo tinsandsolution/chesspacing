{
 "cells": [
  {
   "cell_type": "code",
   "execution_count": null,
   "metadata": {},
   "outputs": [],
   "source": [
    "'''\n",
    "let's say we have an image called polgar.png.\n",
    "we want to extract the FEN data, and then we also want to generate a url so you can easily look it up on lichess.\n",
    "'''"
   ]
  }
 ],
 "metadata": {
  "kernelspec": {
   "display_name": "Python 3.9.6 64-bit ('3.9.6')",
   "language": "python",
   "name": "python3"
  },
  "language_info": {
   "name": "python",
   "version": "3.9.6"
  },
  "orig_nbformat": 4,
  "vscode": {
   "interpreter": {
    "hash": "4e97e06fcdd2f0f7fdaac2591328194802de088b1a01c86d278602536eba0959"
   }
  }
 },
 "nbformat": 4,
 "nbformat_minor": 2
}
