{
 "cells": [
  {
   "cell_type": "code",
   "execution_count": null,
   "metadata": {},
   "outputs": [],
   "source": [
    "'''\n",
    "in each image, you have 64 squares.\n",
    "if you crop them perfectly enough, a rook square should look exactly the same.\n",
    "\n",
    "we can take one of four paths: \n",
    "\n",
    "- AI\n",
    "- basic image similarity scores.\n",
    "- strict comparisons\n",
    "- coordinate point comparisons\n",
    "\n",
    "doing this manually will make me want to uh.\n",
    "there's like 10 pieces per board, and there are 5334 boards. \n",
    "\n",
    "'''"
   ]
  }
 ],
 "metadata": {
  "kernelspec": {
   "display_name": "Python 3.9.6 64-bit ('3.9.6')",
   "language": "python",
   "name": "python3"
  },
  "language_info": {
   "name": "python",
   "version": "3.9.6"
  },
  "orig_nbformat": 4,
  "vscode": {
   "interpreter": {
    "hash": "4e97e06fcdd2f0f7fdaac2591328194802de088b1a01c86d278602536eba0959"
   }
  }
 },
 "nbformat": 4,
 "nbformat_minor": 2
}
